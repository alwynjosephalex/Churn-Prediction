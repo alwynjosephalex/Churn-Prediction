{
 "cells": [
  {
   "cell_type": "markdown",
   "metadata": {},
   "source": [
    "# Importing libraries"
   ]
  },
  {
   "cell_type": "code",
   "execution_count": 1,
   "metadata": {},
   "outputs": [],
   "source": [
    "import pandas as pd\n",
    "import numpy as np\n",
    "import matplotlib.pyplot as plt\n",
    "import seaborn as sns\n",
    "import math\n",
    "from math import sqrt\n",
    "from sklearn.model_selection import train_test_split\n",
    "from sklearn.preprocessing import LabelEncoder,OneHotEncoder\n",
    "from scipy.stats import boxcox\n",
    "from sklearn.linear_model import LogisticRegression\n",
    "from sklearn.svm import SVC\n",
    "from sklearn.ensemble import RandomForestClassifier, GradientBoostingClassifier\n",
    "from sklearn.tree import DecisionTreeClassifier\n",
    "from xgboost import XGBClassifier\n",
    "from sklearn.metrics import accuracy_score, confusion_matrix, precision_score, recall_score, f1_score\n",
    "%matplotlib inline"
   ]
  },
  {
   "cell_type": "markdown",
   "metadata": {},
   "source": [
    "# Q1"
   ]
  },
  {
   "cell_type": "code",
   "execution_count": 2,
   "metadata": {},
   "outputs": [
    {
     "data": {
      "text/html": [
       "<div>\n",
       "<style scoped>\n",
       "    .dataframe tbody tr th:only-of-type {\n",
       "        vertical-align: middle;\n",
       "    }\n",
       "\n",
       "    .dataframe tbody tr th {\n",
       "        vertical-align: top;\n",
       "    }\n",
       "\n",
       "    .dataframe thead th {\n",
       "        text-align: right;\n",
       "    }\n",
       "</style>\n",
       "<table border=\"1\" class=\"dataframe\">\n",
       "  <thead>\n",
       "    <tr style=\"text-align: right;\">\n",
       "      <th></th>\n",
       "      <th>User</th>\n",
       "      <th>Product</th>\n",
       "      <th>Rating</th>\n",
       "    </tr>\n",
       "  </thead>\n",
       "  <tbody>\n",
       "    <tr>\n",
       "      <th>0</th>\n",
       "      <td>(User 88803</td>\n",
       "      <td>Product 22577</td>\n",
       "      <td>Rating 0.0)</td>\n",
       "    </tr>\n",
       "    <tr>\n",
       "      <th>1</th>\n",
       "      <td>(User 88803</td>\n",
       "      <td>Product 20520</td>\n",
       "      <td>Rating 4.0)</td>\n",
       "    </tr>\n",
       "    <tr>\n",
       "      <th>2</th>\n",
       "      <td>(User 88803</td>\n",
       "      <td>Product 91820</td>\n",
       "      <td>Rating 1.0)</td>\n",
       "    </tr>\n",
       "    <tr>\n",
       "      <th>3</th>\n",
       "      <td>(User 88803</td>\n",
       "      <td>Product 45584</td>\n",
       "      <td>Rating 7.0)</td>\n",
       "    </tr>\n",
       "    <tr>\n",
       "      <th>4</th>\n",
       "      <td>(User 88803</td>\n",
       "      <td>Product 98857</td>\n",
       "      <td>Rating 6.0)</td>\n",
       "    </tr>\n",
       "  </tbody>\n",
       "</table>\n",
       "</div>"
      ],
      "text/plain": [
       "           User          Product        Rating\n",
       "0  (User 88803    Product 22577    Rating 0.0)\n",
       "1  (User 88803    Product 20520    Rating 4.0)\n",
       "2  (User 88803    Product 91820    Rating 1.0)\n",
       "3  (User 88803    Product 45584    Rating 7.0)\n",
       "4  (User 88803    Product 98857    Rating 6.0)"
      ]
     },
     "execution_count": 2,
     "metadata": {},
     "output_type": "execute_result"
    }
   ],
   "source": [
    "#Importing the dataset\n",
    "df = pd.read_csv('train.txt',header=None,names=['User','Product','Rating'])\n",
    "df.head()"
   ]
  },
  {
   "cell_type": "code",
   "execution_count": 3,
   "metadata": {},
   "outputs": [],
   "source": [
    "#Cleaning\n",
    "df['Rating'] = df['Rating'].str.findall(r'\\d+\\.\\d+').apply(lambda x:x[0])\n",
    "df['User'] = df['User'].str.findall(r'\\d+').apply(lambda x:x[0])\n",
    "df['Product'] = df['Product'].str.findall(r'\\d+').apply(lambda x:x[0])\n",
    "df['User'] = df['User'].astype('int')\n",
    "df['Product'] = df['Product'].astype('int')\n",
    "df['Rating'] = df['Rating'].astype('float')"
   ]
  },
  {
   "cell_type": "markdown",
   "metadata": {},
   "source": [
    "# Total Number of Users"
   ]
  },
  {
   "cell_type": "code",
   "execution_count": 4,
   "metadata": {},
   "outputs": [
    {
     "data": {
      "text/plain": [
       "500"
      ]
     },
     "execution_count": 4,
     "metadata": {},
     "output_type": "execute_result"
    }
   ],
   "source": [
    "#Total Number of Users\n",
    "df['User'].nunique()"
   ]
  },
  {
   "cell_type": "markdown",
   "metadata": {},
   "source": [
    "# Total Number of Products"
   ]
  },
  {
   "cell_type": "code",
   "execution_count": 5,
   "metadata": {},
   "outputs": [
    {
     "data": {
      "text/plain": [
       "100"
      ]
     },
     "execution_count": 5,
     "metadata": {},
     "output_type": "execute_result"
    }
   ],
   "source": [
    "#Total Number of Products\n",
    "df['Product'].nunique()"
   ]
  },
  {
   "cell_type": "markdown",
   "metadata": {},
   "source": [
    "# Q2"
   ]
  },
  {
   "cell_type": "code",
   "execution_count": 6,
   "metadata": {},
   "outputs": [
    {
     "data": {
      "text/plain": [
       "(500, 100)"
      ]
     },
     "execution_count": 6,
     "metadata": {},
     "output_type": "execute_result"
    }
   ],
   "source": [
    "#Obtaining the Matrix Y\n",
    "matrix = pd.pivot_table(df,values='Rating',index='User',columns='Product')\n",
    "matrix.shape"
   ]
  },
  {
   "cell_type": "code",
   "execution_count": 7,
   "metadata": {},
   "outputs": [
    {
     "data": {
      "text/html": [
       "<div>\n",
       "<style scoped>\n",
       "    .dataframe tbody tr th:only-of-type {\n",
       "        vertical-align: middle;\n",
       "    }\n",
       "\n",
       "    .dataframe tbody tr th {\n",
       "        vertical-align: top;\n",
       "    }\n",
       "\n",
       "    .dataframe thead th {\n",
       "        text-align: right;\n",
       "    }\n",
       "</style>\n",
       "<table border=\"1\" class=\"dataframe\">\n",
       "  <thead>\n",
       "    <tr style=\"text-align: right;\">\n",
       "      <th>Product</th>\n",
       "      <th>123</th>\n",
       "      <th>1208</th>\n",
       "      <th>1785</th>\n",
       "      <th>1855</th>\n",
       "      <th>2114</th>\n",
       "      <th>2811</th>\n",
       "      <th>5351</th>\n",
       "      <th>5871</th>\n",
       "      <th>7230</th>\n",
       "      <th>7343</th>\n",
       "      <th>...</th>\n",
       "      <th>84017</th>\n",
       "      <th>85457</th>\n",
       "      <th>86102</th>\n",
       "      <th>88273</th>\n",
       "      <th>88523</th>\n",
       "      <th>91484</th>\n",
       "      <th>91736</th>\n",
       "      <th>91820</th>\n",
       "      <th>98071</th>\n",
       "      <th>98857</th>\n",
       "    </tr>\n",
       "    <tr>\n",
       "      <th>User</th>\n",
       "      <th></th>\n",
       "      <th></th>\n",
       "      <th></th>\n",
       "      <th></th>\n",
       "      <th></th>\n",
       "      <th></th>\n",
       "      <th></th>\n",
       "      <th></th>\n",
       "      <th></th>\n",
       "      <th></th>\n",
       "      <th></th>\n",
       "      <th></th>\n",
       "      <th></th>\n",
       "      <th></th>\n",
       "      <th></th>\n",
       "      <th></th>\n",
       "      <th></th>\n",
       "      <th></th>\n",
       "      <th></th>\n",
       "      <th></th>\n",
       "      <th></th>\n",
       "    </tr>\n",
       "  </thead>\n",
       "  <tbody>\n",
       "    <tr>\n",
       "      <th>76</th>\n",
       "      <td>NaN</td>\n",
       "      <td>9.0</td>\n",
       "      <td>NaN</td>\n",
       "      <td>8.0</td>\n",
       "      <td>3.0</td>\n",
       "      <td>4.0</td>\n",
       "      <td>9.0</td>\n",
       "      <td>7.0</td>\n",
       "      <td>NaN</td>\n",
       "      <td>6.0</td>\n",
       "      <td>...</td>\n",
       "      <td>NaN</td>\n",
       "      <td>3.0</td>\n",
       "      <td>NaN</td>\n",
       "      <td>NaN</td>\n",
       "      <td>NaN</td>\n",
       "      <td>NaN</td>\n",
       "      <td>NaN</td>\n",
       "      <td>NaN</td>\n",
       "      <td>NaN</td>\n",
       "      <td>NaN</td>\n",
       "    </tr>\n",
       "    <tr>\n",
       "      <th>287</th>\n",
       "      <td>NaN</td>\n",
       "      <td>NaN</td>\n",
       "      <td>6.0</td>\n",
       "      <td>NaN</td>\n",
       "      <td>NaN</td>\n",
       "      <td>NaN</td>\n",
       "      <td>NaN</td>\n",
       "      <td>1.0</td>\n",
       "      <td>NaN</td>\n",
       "      <td>8.0</td>\n",
       "      <td>...</td>\n",
       "      <td>4.0</td>\n",
       "      <td>0.0</td>\n",
       "      <td>NaN</td>\n",
       "      <td>NaN</td>\n",
       "      <td>8.0</td>\n",
       "      <td>NaN</td>\n",
       "      <td>0.0</td>\n",
       "      <td>6.0</td>\n",
       "      <td>2.0</td>\n",
       "      <td>0.0</td>\n",
       "    </tr>\n",
       "    <tr>\n",
       "      <th>337</th>\n",
       "      <td>NaN</td>\n",
       "      <td>NaN</td>\n",
       "      <td>3.0</td>\n",
       "      <td>0.0</td>\n",
       "      <td>0.0</td>\n",
       "      <td>1.0</td>\n",
       "      <td>3.0</td>\n",
       "      <td>1.0</td>\n",
       "      <td>0.0</td>\n",
       "      <td>8.0</td>\n",
       "      <td>...</td>\n",
       "      <td>NaN</td>\n",
       "      <td>4.0</td>\n",
       "      <td>2.0</td>\n",
       "      <td>NaN</td>\n",
       "      <td>NaN</td>\n",
       "      <td>NaN</td>\n",
       "      <td>NaN</td>\n",
       "      <td>0.0</td>\n",
       "      <td>NaN</td>\n",
       "      <td>3.0</td>\n",
       "    </tr>\n",
       "    <tr>\n",
       "      <th>707</th>\n",
       "      <td>9.0</td>\n",
       "      <td>NaN</td>\n",
       "      <td>NaN</td>\n",
       "      <td>2.0</td>\n",
       "      <td>3.0</td>\n",
       "      <td>8.0</td>\n",
       "      <td>NaN</td>\n",
       "      <td>NaN</td>\n",
       "      <td>NaN</td>\n",
       "      <td>8.0</td>\n",
       "      <td>...</td>\n",
       "      <td>NaN</td>\n",
       "      <td>3.0</td>\n",
       "      <td>1.0</td>\n",
       "      <td>3.0</td>\n",
       "      <td>9.0</td>\n",
       "      <td>6.0</td>\n",
       "      <td>1.0</td>\n",
       "      <td>9.0</td>\n",
       "      <td>NaN</td>\n",
       "      <td>1.0</td>\n",
       "    </tr>\n",
       "    <tr>\n",
       "      <th>807</th>\n",
       "      <td>1.0</td>\n",
       "      <td>6.0</td>\n",
       "      <td>2.0</td>\n",
       "      <td>5.0</td>\n",
       "      <td>7.0</td>\n",
       "      <td>2.0</td>\n",
       "      <td>8.0</td>\n",
       "      <td>4.0</td>\n",
       "      <td>NaN</td>\n",
       "      <td>10.0</td>\n",
       "      <td>...</td>\n",
       "      <td>NaN</td>\n",
       "      <td>0.0</td>\n",
       "      <td>10.0</td>\n",
       "      <td>0.0</td>\n",
       "      <td>0.0</td>\n",
       "      <td>NaN</td>\n",
       "      <td>NaN</td>\n",
       "      <td>NaN</td>\n",
       "      <td>7.0</td>\n",
       "      <td>6.0</td>\n",
       "    </tr>\n",
       "    <tr>\n",
       "      <th>...</th>\n",
       "      <td>...</td>\n",
       "      <td>...</td>\n",
       "      <td>...</td>\n",
       "      <td>...</td>\n",
       "      <td>...</td>\n",
       "      <td>...</td>\n",
       "      <td>...</td>\n",
       "      <td>...</td>\n",
       "      <td>...</td>\n",
       "      <td>...</td>\n",
       "      <td>...</td>\n",
       "      <td>...</td>\n",
       "      <td>...</td>\n",
       "      <td>...</td>\n",
       "      <td>...</td>\n",
       "      <td>...</td>\n",
       "      <td>...</td>\n",
       "      <td>...</td>\n",
       "      <td>...</td>\n",
       "      <td>...</td>\n",
       "      <td>...</td>\n",
       "    </tr>\n",
       "    <tr>\n",
       "      <th>97877</th>\n",
       "      <td>2.0</td>\n",
       "      <td>NaN</td>\n",
       "      <td>NaN</td>\n",
       "      <td>9.0</td>\n",
       "      <td>NaN</td>\n",
       "      <td>1.0</td>\n",
       "      <td>8.0</td>\n",
       "      <td>8.0</td>\n",
       "      <td>NaN</td>\n",
       "      <td>7.0</td>\n",
       "      <td>...</td>\n",
       "      <td>NaN</td>\n",
       "      <td>0.0</td>\n",
       "      <td>8.0</td>\n",
       "      <td>3.0</td>\n",
       "      <td>NaN</td>\n",
       "      <td>NaN</td>\n",
       "      <td>5.0</td>\n",
       "      <td>2.0</td>\n",
       "      <td>9.0</td>\n",
       "      <td>NaN</td>\n",
       "    </tr>\n",
       "    <tr>\n",
       "      <th>97887</th>\n",
       "      <td>0.0</td>\n",
       "      <td>NaN</td>\n",
       "      <td>6.0</td>\n",
       "      <td>NaN</td>\n",
       "      <td>0.0</td>\n",
       "      <td>3.0</td>\n",
       "      <td>5.0</td>\n",
       "      <td>4.0</td>\n",
       "      <td>10.0</td>\n",
       "      <td>9.0</td>\n",
       "      <td>...</td>\n",
       "      <td>2.0</td>\n",
       "      <td>8.0</td>\n",
       "      <td>NaN</td>\n",
       "      <td>6.0</td>\n",
       "      <td>NaN</td>\n",
       "      <td>NaN</td>\n",
       "      <td>6.0</td>\n",
       "      <td>NaN</td>\n",
       "      <td>4.0</td>\n",
       "      <td>NaN</td>\n",
       "    </tr>\n",
       "    <tr>\n",
       "      <th>98352</th>\n",
       "      <td>3.0</td>\n",
       "      <td>NaN</td>\n",
       "      <td>1.0</td>\n",
       "      <td>0.0</td>\n",
       "      <td>NaN</td>\n",
       "      <td>3.0</td>\n",
       "      <td>2.0</td>\n",
       "      <td>6.0</td>\n",
       "      <td>0.0</td>\n",
       "      <td>5.0</td>\n",
       "      <td>...</td>\n",
       "      <td>1.0</td>\n",
       "      <td>NaN</td>\n",
       "      <td>5.0</td>\n",
       "      <td>NaN</td>\n",
       "      <td>1.0</td>\n",
       "      <td>NaN</td>\n",
       "      <td>NaN</td>\n",
       "      <td>NaN</td>\n",
       "      <td>0.0</td>\n",
       "      <td>1.0</td>\n",
       "    </tr>\n",
       "    <tr>\n",
       "      <th>98435</th>\n",
       "      <td>NaN</td>\n",
       "      <td>NaN</td>\n",
       "      <td>NaN</td>\n",
       "      <td>8.0</td>\n",
       "      <td>8.0</td>\n",
       "      <td>NaN</td>\n",
       "      <td>10.0</td>\n",
       "      <td>8.0</td>\n",
       "      <td>1.0</td>\n",
       "      <td>8.0</td>\n",
       "      <td>...</td>\n",
       "      <td>8.0</td>\n",
       "      <td>4.0</td>\n",
       "      <td>6.0</td>\n",
       "      <td>NaN</td>\n",
       "      <td>NaN</td>\n",
       "      <td>0.0</td>\n",
       "      <td>2.0</td>\n",
       "      <td>NaN</td>\n",
       "      <td>8.0</td>\n",
       "      <td>NaN</td>\n",
       "    </tr>\n",
       "    <tr>\n",
       "      <th>98800</th>\n",
       "      <td>4.0</td>\n",
       "      <td>0.0</td>\n",
       "      <td>NaN</td>\n",
       "      <td>NaN</td>\n",
       "      <td>1.0</td>\n",
       "      <td>NaN</td>\n",
       "      <td>1.0</td>\n",
       "      <td>3.0</td>\n",
       "      <td>0.0</td>\n",
       "      <td>8.0</td>\n",
       "      <td>...</td>\n",
       "      <td>NaN</td>\n",
       "      <td>5.0</td>\n",
       "      <td>NaN</td>\n",
       "      <td>NaN</td>\n",
       "      <td>4.0</td>\n",
       "      <td>3.0</td>\n",
       "      <td>6.0</td>\n",
       "      <td>NaN</td>\n",
       "      <td>NaN</td>\n",
       "      <td>NaN</td>\n",
       "    </tr>\n",
       "  </tbody>\n",
       "</table>\n",
       "<p>500 rows × 100 columns</p>\n",
       "</div>"
      ],
      "text/plain": [
       "Product  123    1208   1785   1855   2114   2811   5351   5871   7230   7343   \\\n",
       "User                                                                            \n",
       "76         NaN    9.0    NaN    8.0    3.0    4.0    9.0    7.0    NaN    6.0   \n",
       "287        NaN    NaN    6.0    NaN    NaN    NaN    NaN    1.0    NaN    8.0   \n",
       "337        NaN    NaN    3.0    0.0    0.0    1.0    3.0    1.0    0.0    8.0   \n",
       "707        9.0    NaN    NaN    2.0    3.0    8.0    NaN    NaN    NaN    8.0   \n",
       "807        1.0    6.0    2.0    5.0    7.0    2.0    8.0    4.0    NaN   10.0   \n",
       "...        ...    ...    ...    ...    ...    ...    ...    ...    ...    ...   \n",
       "97877      2.0    NaN    NaN    9.0    NaN    1.0    8.0    8.0    NaN    7.0   \n",
       "97887      0.0    NaN    6.0    NaN    0.0    3.0    5.0    4.0   10.0    9.0   \n",
       "98352      3.0    NaN    1.0    0.0    NaN    3.0    2.0    6.0    0.0    5.0   \n",
       "98435      NaN    NaN    NaN    8.0    8.0    NaN   10.0    8.0    1.0    8.0   \n",
       "98800      4.0    0.0    NaN    NaN    1.0    NaN    1.0    3.0    0.0    8.0   \n",
       "\n",
       "Product  ...  84017  85457  86102  88273  88523  91484  91736  91820  98071  \\\n",
       "User     ...                                                                  \n",
       "76       ...    NaN    3.0    NaN    NaN    NaN    NaN    NaN    NaN    NaN   \n",
       "287      ...    4.0    0.0    NaN    NaN    8.0    NaN    0.0    6.0    2.0   \n",
       "337      ...    NaN    4.0    2.0    NaN    NaN    NaN    NaN    0.0    NaN   \n",
       "707      ...    NaN    3.0    1.0    3.0    9.0    6.0    1.0    9.0    NaN   \n",
       "807      ...    NaN    0.0   10.0    0.0    0.0    NaN    NaN    NaN    7.0   \n",
       "...      ...    ...    ...    ...    ...    ...    ...    ...    ...    ...   \n",
       "97877    ...    NaN    0.0    8.0    3.0    NaN    NaN    5.0    2.0    9.0   \n",
       "97887    ...    2.0    8.0    NaN    6.0    NaN    NaN    6.0    NaN    4.0   \n",
       "98352    ...    1.0    NaN    5.0    NaN    1.0    NaN    NaN    NaN    0.0   \n",
       "98435    ...    8.0    4.0    6.0    NaN    NaN    0.0    2.0    NaN    8.0   \n",
       "98800    ...    NaN    5.0    NaN    NaN    4.0    3.0    6.0    NaN    NaN   \n",
       "\n",
       "Product  98857  \n",
       "User            \n",
       "76         NaN  \n",
       "287        0.0  \n",
       "337        3.0  \n",
       "707        1.0  \n",
       "807        6.0  \n",
       "...        ...  \n",
       "97877      NaN  \n",
       "97887      NaN  \n",
       "98352      1.0  \n",
       "98435      NaN  \n",
       "98800      NaN  \n",
       "\n",
       "[500 rows x 100 columns]"
      ]
     },
     "execution_count": 7,
     "metadata": {},
     "output_type": "execute_result"
    }
   ],
   "source": [
    "matrix"
   ]
  },
  {
   "cell_type": "markdown",
   "metadata": {},
   "source": [
    "# Q3"
   ]
  },
  {
   "cell_type": "code",
   "execution_count": 8,
   "metadata": {},
   "outputs": [
    {
     "name": "stdout",
     "output_type": "stream",
     "text": [
      "Product\n",
      "123      2.779264\n",
      "1208     4.123711\n",
      "1785     2.654237\n",
      "1855     4.103774\n",
      "2114     4.259259\n",
      "           ...   \n",
      "91484    2.575342\n",
      "91736    4.530201\n",
      "91820    2.781879\n",
      "98071    4.215753\n",
      "98857    3.986207\n",
      "Name: Rating, Length: 100, dtype: float64\n"
     ]
    }
   ],
   "source": [
    "average_ratings = df.groupby(\"Product\")[\"Rating\"].mean()\n",
    "\n",
    "# Display the average ratings\n",
    "print(average_ratings)"
   ]
  },
  {
   "cell_type": "code",
   "execution_count": 11,
   "metadata": {},
   "outputs": [
    {
     "data": {
      "image/png": "[encoded data removed]",
      "text/plain": [
       "<Figure size 800x600 with 1 Axes>"
      ]
     },
     "metadata": {},
     "output_type": "display_data"
    }
   ],
   "source": [
    "# Plotting the histogram for average ratings of products\n",
    "average_ratings = df.groupby('Product')['Rating'].mean()\n",
    "\n",
    "plt.figure(figsize=(8, 6))  # Set the figure size for better presentation\n",
    "\n",
    "plt.hist(average_ratings, bins=15, edgecolor='black', alpha=0.7)  # Adjust the number of bins as needed\n",
    "plt.title(\"Average Ratings of Products\")\n",
    "plt.xlabel(\"Average Rating\")\n",
    "plt.ylabel(\"Frequency\")\n",
    "plt.tight_layout()  # Ensuring proper spacing between elements\n",
    "plt.show()"
   ]
  },
  {
   "cell_type": "markdown",
   "metadata": {},
   "source": [
    "# Q4"
   ]
  },
  {
   "cell_type": "code",
   "execution_count": 12,
   "metadata": {},
   "outputs": [
    {
     "data": {
      "text/plain": [
       "Product\n",
       "56033    1.920530\n",
       "72533    1.954839\n",
       "22577    1.976898\n",
       "16430    2.013468\n",
       "60751    2.034247\n",
       "Name: Rating, dtype: float64"
      ]
     },
     "execution_count": 12,
     "metadata": {},
     "output_type": "execute_result"
    }
   ],
   "source": [
    "#Top 5 Worst Products\n",
    "df.groupby('Product')['Rating'].mean().sort_values()[:5]"
   ]
  },
  {
   "cell_type": "markdown",
   "metadata": {},
   "source": [
    "# Q5"
   ]
  },
  {
   "cell_type": "code",
   "execution_count": 13,
   "metadata": {},
   "outputs": [
    {
     "data": {
      "text/plain": [
       "User\n",
       "76       4.274194\n",
       "287      3.737705\n",
       "337      3.650794\n",
       "707      4.433333\n",
       "807      4.264706\n",
       "           ...   \n",
       "97877    4.100000\n",
       "97887    4.904762\n",
       "98352    3.983333\n",
       "98435    4.193548\n",
       "98800    4.111111\n",
       "Name: Rating, Length: 500, dtype: float64"
      ]
     },
     "execution_count": 13,
     "metadata": {},
     "output_type": "execute_result"
    }
   ],
   "source": [
    "#Average Rating of each user\n",
    "df.groupby('User')['Rating'].mean()"
   ]
  },
  {
   "cell_type": "code",
   "execution_count": 16,
   "metadata": {},
   "outputs": [
    {
     "data": {
      "image/png": "[encoded data removed]",
      "text/plain": [
       "<Figure size 800x600 with 1 Axes>"
      ]
     },
     "metadata": {},
     "output_type": "display_data"
    }
   ],
   "source": [
    "average_ratings_per_user = df.groupby('User')['Rating'].mean()\n",
    "\n",
    "plt.figure(figsize=(8, 6))  # Set the figure size for better presentation\n",
    "\n",
    "plt.hist(average_ratings_per_user, bins=15, edgecolor='black', alpha=0.7)  # Adjust the number of bins as needed\n",
    "plt.title('Average Rating Given by Each User')\n",
    "plt.xlabel('Average Rating')\n",
    "plt.ylabel('Frequency')\n",
    "plt.tight_layout()  # Ensuring proper spacing between elements\n",
    "plt.show()"
   ]
  },
  {
   "cell_type": "markdown",
   "metadata": {},
   "source": [
    "# Q6"
   ]
  },
  {
   "cell_type": "code",
   "execution_count": 13,
   "metadata": {
    "scrolled": true
   },
   "outputs": [
    {
     "data": {
      "text/plain": [
       "User\n",
       "31410    5.096154\n",
       "73310    5.061538\n",
       "97887    4.904762\n",
       "77730    4.896552\n",
       "20146    4.890625\n",
       "Name: Rating, dtype: float64"
      ]
     },
     "execution_count": 13,
     "metadata": {},
     "output_type": "execute_result"
    }
   ],
   "source": [
    "#Top 5 generous users based on average rating\n",
    "df.groupby('User')['Rating'].mean().sort_values(ascending=False)[:5]"
   ]
  },
  {
   "cell_type": "markdown",
   "metadata": {},
   "source": [
    "# Q7"
   ]
  },
  {
   "cell_type": "code",
   "execution_count": 14,
   "metadata": {},
   "outputs": [
    {
     "data": {
      "text/html": [
       "<div>\n",
       "<style scoped>\n",
       "    .dataframe tbody tr th:only-of-type {\n",
       "        vertical-align: middle;\n",
       "    }\n",
       "\n",
       "    .dataframe tbody tr th {\n",
       "        vertical-align: top;\n",
       "    }\n",
       "\n",
       "    .dataframe thead th {\n",
       "        text-align: right;\n",
       "    }\n",
       "</style>\n",
       "<table border=\"1\" class=\"dataframe\">\n",
       "  <thead>\n",
       "    <tr style=\"text-align: right;\">\n",
       "      <th></th>\n",
       "      <th>User</th>\n",
       "      <th>Product</th>\n",
       "      <th>Rating</th>\n",
       "    </tr>\n",
       "  </thead>\n",
       "  <tbody>\n",
       "    <tr>\n",
       "      <th>0</th>\n",
       "      <td>(User 88803</td>\n",
       "      <td>Product test0</td>\n",
       "      <td>Rating 5.0)</td>\n",
       "    </tr>\n",
       "    <tr>\n",
       "      <th>1</th>\n",
       "      <td>(User 88803</td>\n",
       "      <td>Product test1</td>\n",
       "      <td>Rating 3.0)</td>\n",
       "    </tr>\n",
       "    <tr>\n",
       "      <th>2</th>\n",
       "      <td>(User 43726</td>\n",
       "      <td>Product test0</td>\n",
       "      <td>Rating 8.0)</td>\n",
       "    </tr>\n",
       "    <tr>\n",
       "      <th>3</th>\n",
       "      <td>(User 23325</td>\n",
       "      <td>Product test0</td>\n",
       "      <td>Rating 1.0)</td>\n",
       "    </tr>\n",
       "    <tr>\n",
       "      <th>4</th>\n",
       "      <td>(User 23325</td>\n",
       "      <td>Product test1</td>\n",
       "      <td>Rating 4.0)</td>\n",
       "    </tr>\n",
       "  </tbody>\n",
       "</table>\n",
       "</div>"
      ],
      "text/plain": [
       "           User          Product        Rating\n",
       "0  (User 88803    Product test0    Rating 5.0)\n",
       "1  (User 88803    Product test1    Rating 3.0)\n",
       "2  (User 43726    Product test0    Rating 8.0)\n",
       "3  (User 23325    Product test0    Rating 1.0)\n",
       "4  (User 23325    Product test1    Rating 4.0)"
      ]
     },
     "execution_count": 14,
     "metadata": {},
     "output_type": "execute_result"
    }
   ],
   "source": [
    "#Importing the test.txt data\n",
    "test = pd.read_csv('test.txt',header=None,names=['User','Product','Rating'])\n",
    "test.head()"
   ]
  },
  {
   "cell_type": "code",
   "execution_count": 15,
   "metadata": {},
   "outputs": [],
   "source": [
    "#Data Cleaning\n",
    "test['Rating'] = test['Rating'].str.findall(r'\\d+\\.\\d+').apply(lambda x:x[0])\n",
    "test['User'] = test['User'].str.findall(r'\\d+').apply(lambda x:x[0])\n",
    "test['Product'] = test['Product'].str.findall(r'\\d+').apply(lambda x:x[0])\n",
    "test['User'] = test['User'].astype('int')\n",
    "test['Product'] = test['Product'].astype('int')\n",
    "test['Rating'] = test['Rating'].astype('float')"
   ]
  },
  {
   "cell_type": "code",
   "execution_count": 16,
   "metadata": {},
   "outputs": [
    {
     "data": {
      "text/plain": [
       "421"
      ]
     },
     "execution_count": 16,
     "metadata": {},
     "output_type": "execute_result"
    }
   ],
   "source": [
    "#Number of Users\n",
    "test['User'].nunique()"
   ]
  },
  {
   "cell_type": "code",
   "execution_count": 17,
   "metadata": {},
   "outputs": [
    {
     "data": {
      "text/plain": [
       "2"
      ]
     },
     "execution_count": 17,
     "metadata": {},
     "output_type": "execute_result"
    }
   ],
   "source": [
    "#Number of Products\n",
    "test['Product'].nunique()"
   ]
  },
  {
   "cell_type": "markdown",
   "metadata": {},
   "source": [
    "# Q8"
   ]
  },
  {
   "cell_type": "code",
   "execution_count": 18,
   "metadata": {},
   "outputs": [],
   "source": [
    "#Matrix X\n",
    "xmatrix = pd.pivot_table(test,values='Rating',index='User',columns='Product')"
   ]
  },
  {
   "cell_type": "code",
   "execution_count": 19,
   "metadata": {},
   "outputs": [
    {
     "data": {
      "text/plain": [
       "(421, 2)"
      ]
     },
     "execution_count": 19,
     "metadata": {},
     "output_type": "execute_result"
    }
   ],
   "source": [
    "xmatrix.shape"
   ]
  },
  {
   "cell_type": "code",
   "execution_count": 20,
   "metadata": {},
   "outputs": [
    {
     "data": {
      "text/html": [
       "<div>\n",
       "<style scoped>\n",
       "    .dataframe tbody tr th:only-of-type {\n",
       "        vertical-align: middle;\n",
       "    }\n",
       "\n",
       "    .dataframe tbody tr th {\n",
       "        vertical-align: top;\n",
       "    }\n",
       "\n",
       "    .dataframe thead th {\n",
       "        text-align: right;\n",
       "    }\n",
       "</style>\n",
       "<table border=\"1\" class=\"dataframe\">\n",
       "  <thead>\n",
       "    <tr style=\"text-align: right;\">\n",
       "      <th>Product</th>\n",
       "      <th>0</th>\n",
       "      <th>1</th>\n",
       "    </tr>\n",
       "    <tr>\n",
       "      <th>User</th>\n",
       "      <th></th>\n",
       "      <th></th>\n",
       "    </tr>\n",
       "  </thead>\n",
       "  <tbody>\n",
       "    <tr>\n",
       "      <th>287</th>\n",
       "      <td>4.0</td>\n",
       "      <td>4.0</td>\n",
       "    </tr>\n",
       "    <tr>\n",
       "      <th>337</th>\n",
       "      <td>NaN</td>\n",
       "      <td>10.0</td>\n",
       "    </tr>\n",
       "    <tr>\n",
       "      <th>707</th>\n",
       "      <td>3.0</td>\n",
       "      <td>NaN</td>\n",
       "    </tr>\n",
       "    <tr>\n",
       "      <th>807</th>\n",
       "      <td>NaN</td>\n",
       "      <td>3.0</td>\n",
       "    </tr>\n",
       "    <tr>\n",
       "      <th>1103</th>\n",
       "      <td>NaN</td>\n",
       "      <td>7.0</td>\n",
       "    </tr>\n",
       "    <tr>\n",
       "      <th>...</th>\n",
       "      <td>...</td>\n",
       "      <td>...</td>\n",
       "    </tr>\n",
       "    <tr>\n",
       "      <th>97877</th>\n",
       "      <td>NaN</td>\n",
       "      <td>1.0</td>\n",
       "    </tr>\n",
       "    <tr>\n",
       "      <th>97887</th>\n",
       "      <td>NaN</td>\n",
       "      <td>2.0</td>\n",
       "    </tr>\n",
       "    <tr>\n",
       "      <th>98352</th>\n",
       "      <td>6.0</td>\n",
       "      <td>6.0</td>\n",
       "    </tr>\n",
       "    <tr>\n",
       "      <th>98435</th>\n",
       "      <td>1.0</td>\n",
       "      <td>2.0</td>\n",
       "    </tr>\n",
       "    <tr>\n",
       "      <th>98800</th>\n",
       "      <td>NaN</td>\n",
       "      <td>10.0</td>\n",
       "    </tr>\n",
       "  </tbody>\n",
       "</table>\n",
       "<p>421 rows × 2 columns</p>\n",
       "</div>"
      ],
      "text/plain": [
       "Product    0     1\n",
       "User              \n",
       "287      4.0   4.0\n",
       "337      NaN  10.0\n",
       "707      3.0   NaN\n",
       "807      NaN   3.0\n",
       "1103     NaN   7.0\n",
       "...      ...   ...\n",
       "97877    NaN   1.0\n",
       "97887    NaN   2.0\n",
       "98352    6.0   6.0\n",
       "98435    1.0   2.0\n",
       "98800    NaN  10.0\n",
       "\n",
       "[421 rows x 2 columns]"
      ]
     },
     "execution_count": 20,
     "metadata": {},
     "output_type": "execute_result"
    }
   ],
   "source": [
    "xmatrix"
   ]
  },
  {
   "cell_type": "markdown",
   "metadata": {},
   "source": [
    "# Q9"
   ]
  },
  {
   "cell_type": "code",
   "execution_count": 21,
   "metadata": {},
   "outputs": [],
   "source": [
    "#Finding out only test and train products\n",
    "test_products = list(test.Product.unique())\n",
    "train_products = list(df.Product.unique())"
   ]
  },
  {
   "cell_type": "code",
   "execution_count": 22,
   "metadata": {},
   "outputs": [],
   "source": [
    "#Extracting a list of common users\n",
    "common_users = list(set(matrix.index.to_list()).intersection(set(xmatrix.index.to_list())))"
   ]
  },
  {
   "cell_type": "code",
   "execution_count": 23,
   "metadata": {},
   "outputs": [],
   "source": [
    "#Writing code for Manhattan Distance\n",
    "d={}\n",
    "for test_product in test_products:\n",
    "    d[test_product]={}\n",
    "    for train_product in train_products:\n",
    "        d[test_product][train_product]=0\n",
    "        for user in common_users:\n",
    "            if math.isnan(xmatrix[test_product][user]) or math.isnan(matrix[train_product][user]):\n",
    "                continue\n",
    "            else:\n",
    "                d[test_product][train_product]+=abs(xmatrix[test_product][user]-matrix[train_product][user])"
   ]
  },
  {
   "cell_type": "code",
   "execution_count": 24,
   "metadata": {
    "scrolled": true
   },
   "outputs": [
    {
     "name": "stdout",
     "output_type": "stream",
     "text": [
      "The top 5 products and their distance score in train.txt for Product 0 in test.txt are:\n",
      "[(50408, 244.0), (58577, 272.0), (60734, 281.0), (38851, 281.0), (26457, 283.0)]\n",
      "The top 5 products and their distance score in train.txt for Product 1 in test.txt are:\n",
      "[(24785, 265.0), (26457, 297.0), (50408, 314.0), (40821, 315.0), (38851, 316.0)]\n"
     ]
    }
   ],
   "source": [
    "#Top 5 similar products in train.txt for each product in test.txt\n",
    "for test_product in test_products:\n",
    "    print(f'The top 5 products and their distance score in train.txt for Product {test_product} in test.txt are:')\n",
    "    temp=sorted(d[test_product].items(),key=lambda x:x[1])[:5]\n",
    "    print(temp)"
   ]
  },
  {
   "cell_type": "markdown",
   "metadata": {},
   "source": [
    "# Q12"
   ]
  },
  {
   "cell_type": "code",
   "execution_count": 25,
   "metadata": {},
   "outputs": [
    {
     "name": "stdout",
     "output_type": "stream",
     "text": [
      "Test Product: 0\n",
      "  Similar Product: 50408, Euclidean Distance: 27.018512172212592\n",
      "  Similar Product: 58577, Euclidean Distance: 28.35489375751565\n",
      "  Similar Product: 26457, Euclidean Distance: 28.75760768909681\n",
      "  Similar Product: 60734, Euclidean Distance: 28.965496715920477\n",
      "  Similar Product: 38851, Euclidean Distance: 29.0\n",
      "Test Product: 1\n",
      "  Similar Product: 24785, Euclidean Distance: 27.367864366808018\n",
      "  Similar Product: 26457, Euclidean Distance: 29.410882339705484\n",
      "  Similar Product: 40821, Euclidean Distance: 30.708305065568176\n",
      "  Similar Product: 50408, Euclidean Distance: 31.176914536239792\n",
      "  Similar Product: 41232, Euclidean Distance: 31.22498999199199\n"
     ]
    }
   ],
   "source": [
    "d = {}\n",
    "\n",
    "for test_product in test_products:\n",
    "    d[test_product] = {}\n",
    "    for train_product in train_products:\n",
    "        d[test_product][train_product] = 0\n",
    "        for user in common_users:\n",
    "            if math.isnan(xmatrix[test_product][user]) or math.isnan(matrix[train_product][user]):\n",
    "                continue\n",
    "            else:\n",
    "                d[test_product][train_product] += math.pow(abs(xmatrix[test_product][user] - matrix[train_product][user]), 2)\n",
    "\n",
    "#Taking the square root of the sum of squared differences\n",
    "for test_product in d:\n",
    "    for train_product in d[test_product]:\n",
    "        d[test_product][train_product] = math.sqrt(d[test_product][train_product])\n",
    "\n",
    "#Top 5 most similar products in train data for each test product\n",
    "top_similar_products = {}\n",
    "for test_product in d:\n",
    "    sorted_dist_dict = dict(sorted(d[test_product].items(), key=lambda item: item[1])[:5])\n",
    "    top_similar_products[test_product] = sorted_dist_dict\n",
    "\n",
    "#Results\n",
    "for test_product, similar_products in top_similar_products.items():\n",
    "    print(f\"Test Product: {test_product}\")\n",
    "    for train_product, euclidean_dist in similar_products.items():\n",
    "        print(f\"  Similar Product: {train_product}, Euclidean Distance: {euclidean_dist}\")\n"
   ]
  },
  {
   "cell_type": "markdown",
   "metadata": {},
   "source": [
    "# Part B"
   ]
  },
  {
   "cell_type": "markdown",
   "metadata": {},
   "source": [
    "# Data Collection"
   ]
  },
  {
   "cell_type": "code",
   "execution_count": 26,
   "metadata": {},
   "outputs": [
    {
     "data": {
      "text/html": [
       "<div>\n",
       "<style scoped>\n",
       "    .dataframe tbody tr th:only-of-type {\n",
       "        vertical-align: middle;\n",
       "    }\n",
       "\n",
       "    .dataframe tbody tr th {\n",
       "        vertical-align: top;\n",
       "    }\n",
       "\n",
       "    .dataframe thead th {\n",
       "        text-align: right;\n",
       "    }\n",
       "</style>\n",
       "<table border=\"1\" class=\"dataframe\">\n",
       "  <thead>\n",
       "    <tr style=\"text-align: right;\">\n",
       "      <th></th>\n",
       "      <th>Unnamed: 0</th>\n",
       "      <th>customer_id</th>\n",
       "      <th>gender</th>\n",
       "      <th>location</th>\n",
       "      <th>partner</th>\n",
       "      <th>dependents</th>\n",
       "      <th>senior</th>\n",
       "      <th>Tenure</th>\n",
       "      <th>monthly_cost</th>\n",
       "      <th>package</th>\n",
       "      <th>survey</th>\n",
       "      <th>Class</th>\n",
       "    </tr>\n",
       "  </thead>\n",
       "  <tbody>\n",
       "    <tr>\n",
       "      <th>0</th>\n",
       "      <td>0</td>\n",
       "      <td>G1606</td>\n",
       "      <td>Female</td>\n",
       "      <td>Lancashire</td>\n",
       "      <td>0</td>\n",
       "      <td>1</td>\n",
       "      <td>0</td>\n",
       "      <td>20.0</td>\n",
       "      <td>NaN</td>\n",
       "      <td>2</td>\n",
       "      <td>0</td>\n",
       "      <td>Churn=No</td>\n",
       "    </tr>\n",
       "    <tr>\n",
       "      <th>1</th>\n",
       "      <td>1</td>\n",
       "      <td>F8889</td>\n",
       "      <td>Female</td>\n",
       "      <td>Essex</td>\n",
       "      <td>0</td>\n",
       "      <td>1</td>\n",
       "      <td>0</td>\n",
       "      <td>4.0</td>\n",
       "      <td>NaN</td>\n",
       "      <td>1</td>\n",
       "      <td>5</td>\n",
       "      <td>Churn=No</td>\n",
       "    </tr>\n",
       "    <tr>\n",
       "      <th>2</th>\n",
       "      <td>2</td>\n",
       "      <td>C5068</td>\n",
       "      <td>Female</td>\n",
       "      <td>Essex</td>\n",
       "      <td>0</td>\n",
       "      <td>Unknown</td>\n",
       "      <td>1</td>\n",
       "      <td>9.0</td>\n",
       "      <td>NaN</td>\n",
       "      <td>2</td>\n",
       "      <td>0</td>\n",
       "      <td>Churn=No</td>\n",
       "    </tr>\n",
       "    <tr>\n",
       "      <th>3</th>\n",
       "      <td>3</td>\n",
       "      <td>G9820</td>\n",
       "      <td>Male</td>\n",
       "      <td>West Yorkshire</td>\n",
       "      <td>1</td>\n",
       "      <td>1</td>\n",
       "      <td>1</td>\n",
       "      <td>9.0</td>\n",
       "      <td>NaN</td>\n",
       "      <td>4</td>\n",
       "      <td>9</td>\n",
       "      <td>Churn=No</td>\n",
       "    </tr>\n",
       "    <tr>\n",
       "      <th>4</th>\n",
       "      <td>4</td>\n",
       "      <td>H7261</td>\n",
       "      <td>Male</td>\n",
       "      <td>Greater Manchester</td>\n",
       "      <td>0</td>\n",
       "      <td>1</td>\n",
       "      <td>0</td>\n",
       "      <td>6.0</td>\n",
       "      <td>NaN</td>\n",
       "      <td>2</td>\n",
       "      <td>5</td>\n",
       "      <td>Churn=No</td>\n",
       "    </tr>\n",
       "  </tbody>\n",
       "</table>\n",
       "</div>"
      ],
      "text/plain": [
       "   Unnamed: 0 customer_id  gender            location  partner dependents  \\\n",
       "0           0       G1606  Female          Lancashire        0          1   \n",
       "1           1       F8889  Female               Essex        0          1   \n",
       "2           2       C5068  Female               Essex        0    Unknown   \n",
       "3           3       G9820    Male      West Yorkshire        1          1   \n",
       "4           4       H7261    Male  Greater Manchester        0          1   \n",
       "\n",
       "   senior  Tenure monthly_cost  package survey     Class  \n",
       "0       0    20.0          NaN        2      0  Churn=No  \n",
       "1       0     4.0          NaN        1      5  Churn=No  \n",
       "2       1     9.0          NaN        2      0  Churn=No  \n",
       "3       1     9.0          NaN        4      9  Churn=No  \n",
       "4       0     6.0          NaN        2      5  Churn=No  "
      ]
     },
     "execution_count": 26,
     "metadata": {},
     "output_type": "execute_result"
    }
   ],
   "source": [
    "#Importing the dataset\n",
    "df = pd.read_csv('Group 1.csv')\n",
    "df.head()"
   ]
  },
  {
   "cell_type": "markdown",
   "metadata": {},
   "source": [
    "# Data Preparation"
   ]
  },
  {
   "cell_type": "code",
   "execution_count": 27,
   "metadata": {
    "scrolled": true
   },
   "outputs": [
    {
     "name": "stdout",
     "output_type": "stream",
     "text": [
      "<class 'pandas.core.frame.DataFrame'>\n",
      "RangeIndex: 7350 entries, 0 to 7349\n",
      "Data columns (total 12 columns):\n",
      " #   Column        Non-Null Count  Dtype  \n",
      "---  ------        --------------  -----  \n",
      " 0   Unnamed: 0    7350 non-null   int64  \n",
      " 1   customer_id   7350 non-null   object \n",
      " 2   gender        7350 non-null   object \n",
      " 3   location      7350 non-null   object \n",
      " 4   partner       7350 non-null   int64  \n",
      " 5   dependents    7350 non-null   object \n",
      " 6   senior        7350 non-null   int64  \n",
      " 7   Tenure        7350 non-null   float64\n",
      " 8   monthly_cost  79 non-null     object \n",
      " 9   package       7350 non-null   int64  \n",
      " 10  survey        7350 non-null   object \n",
      " 11  Class         7291 non-null   object \n",
      "dtypes: float64(1), int64(4), object(7)\n",
      "memory usage: 689.2+ KB\n"
     ]
    }
   ],
   "source": [
    "#Review the structure\n",
    "df.info()"
   ]
  },
  {
   "cell_type": "markdown",
   "metadata": {},
   "source": [
    "The columns are an ID column called Unnamed, customer_id which are pretty much useless.\n",
    "monthly_cost can be computed using the dataset information.\n",
    "survey is a score between 0 to 10, but it is an object datatype in this dataset.\n",
    "Class has some missing values in the dataset - This is the target column which is categorical."
   ]
  },
  {
   "cell_type": "markdown",
   "metadata": {},
   "source": [
    "Before removing the 'customer_id' column, let me check if the entries are actually unique."
   ]
  },
  {
   "cell_type": "code",
   "execution_count": 28,
   "metadata": {},
   "outputs": [],
   "source": [
    "#Dropping the Unnamed:0 column and making a copy of the original dataframe\n",
    "alt_df = df.drop('Unnamed: 0',axis=1)"
   ]
  },
  {
   "cell_type": "code",
   "execution_count": 29,
   "metadata": {},
   "outputs": [],
   "source": [
    "#Dropping duplicates\n",
    "alt_df = alt_df.drop_duplicates()"
   ]
  },
  {
   "cell_type": "code",
   "execution_count": 30,
   "metadata": {},
   "outputs": [
    {
     "name": "stdout",
     "output_type": "stream",
     "text": [
      "<class 'pandas.core.frame.DataFrame'>\n",
      "Index: 7000 entries, 0 to 7349\n",
      "Data columns (total 11 columns):\n",
      " #   Column        Non-Null Count  Dtype  \n",
      "---  ------        --------------  -----  \n",
      " 0   customer_id   7000 non-null   object \n",
      " 1   gender        7000 non-null   object \n",
      " 2   location      7000 non-null   object \n",
      " 3   partner       7000 non-null   int64  \n",
      " 4   dependents    7000 non-null   object \n",
      " 5   senior        7000 non-null   int64  \n",
      " 6   Tenure        7000 non-null   float64\n",
      " 7   monthly_cost  76 non-null     object \n",
      " 8   package       7000 non-null   int64  \n",
      " 9   survey        7000 non-null   object \n",
      " 10  Class         6944 non-null   object \n",
      "dtypes: float64(1), int64(3), object(7)\n",
      "memory usage: 656.2+ KB\n"
     ]
    }
   ],
   "source": [
    "alt_df.info()"
   ]
  },
  {
   "cell_type": "markdown",
   "metadata": {},
   "source": [
    "There were 350 duplicate rows, which are successfuly removed."
   ]
  },
  {
   "cell_type": "markdown",
   "metadata": {},
   "source": [
    "Now I'll remove the customer_id column, because it serves no purpose."
   ]
  },
  {
   "cell_type": "code",
   "execution_count": 31,
   "metadata": {},
   "outputs": [],
   "source": [
    "#Dropping the customer_id column\n",
    "alt_df.drop('customer_id',axis=1,inplace=True)"
   ]
  },
  {
   "cell_type": "code",
   "execution_count": 32,
   "metadata": {},
   "outputs": [],
   "source": [
    "#Extracting only rows where Tenure is 0 or positive\n",
    "alt_df = alt_df[alt_df['Tenure']>=0]"
   ]
  },
  {
   "cell_type": "markdown",
   "metadata": {},
   "source": [
    "\n",
    "I'll remove the 'Class' feature with missing values too, because it is the output feature and I can't just impute it with a random value. Furthermore, only a small subset of the data is missing."
   ]
  },
  {
   "cell_type": "code",
   "execution_count": 33,
   "metadata": {},
   "outputs": [],
   "source": [
    "#Drop null values from the Class feature\n",
    "alt_df.dropna(subset='Class',inplace=True)"
   ]
  },
  {
   "cell_type": "code",
   "execution_count": 34,
   "metadata": {},
   "outputs": [
    {
     "data": {
      "text/plain": [
       "array(['Female', 'Male'], dtype=object)"
      ]
     },
     "execution_count": 34,
     "metadata": {},
     "output_type": "execute_result"
    }
   ],
   "source": [
    "#Checking the number of unique values in the 'Gender' column\n",
    "alt_df['gender'].unique()"
   ]
  },
  {
   "cell_type": "code",
   "execution_count": 35,
   "metadata": {},
   "outputs": [
    {
     "data": {
      "text/plain": [
       "array(['Lancashire', 'Essex', 'West Yorkshire', 'Greater Manchester',\n",
       "       'West Midlands', 'Greater London', 'Merseyside', 'Hertfordshire',\n",
       "       'Devon', 'North Yorkshire', 'Hampshire', 'Kent', 'Surrey',\n",
       "       'Staffordshire', 'South Yorkshire', 'Nottinghamshire',\n",
       "       'Tyne and Wear'], dtype=object)"
      ]
     },
     "execution_count": 35,
     "metadata": {},
     "output_type": "execute_result"
    }
   ],
   "source": [
    "#Checking the number of unique values in the 'Location' column\n",
    "alt_df['location'].unique()"
   ]
  },
  {
   "cell_type": "code",
   "execution_count": 36,
   "metadata": {},
   "outputs": [
    {
     "data": {
      "text/plain": [
       "array([0, 1])"
      ]
     },
     "execution_count": 36,
     "metadata": {},
     "output_type": "execute_result"
    }
   ],
   "source": [
    "#Checking the number of unique values in the 'Partner' column\n",
    "alt_df['partner'].unique()"
   ]
  },
  {
   "cell_type": "code",
   "execution_count": 37,
   "metadata": {},
   "outputs": [
    {
     "data": {
      "text/plain": [
       "array(['1', 'Unknown', '0'], dtype=object)"
      ]
     },
     "execution_count": 37,
     "metadata": {},
     "output_type": "execute_result"
    }
   ],
   "source": [
    "alt_df['dependents'].unique() #It is categorical - Yes, No, Unknown."
   ]
  },
  {
   "cell_type": "code",
   "execution_count": 38,
   "metadata": {},
   "outputs": [
    {
     "data": {
      "text/plain": [
       "array([0, 1])"
      ]
     },
     "execution_count": 38,
     "metadata": {},
     "output_type": "execute_result"
    }
   ],
   "source": [
    "alt_df['senior'].unique() #It is a categorical variable"
   ]
  },
  {
   "cell_type": "code",
   "execution_count": 39,
   "metadata": {},
   "outputs": [
    {
     "data": {
      "text/plain": [
       "array([2, 1, 4, 3])"
      ]
     },
     "execution_count": 39,
     "metadata": {},
     "output_type": "execute_result"
    }
   ],
   "source": [
    "alt_df['package'].unique() #Categorical and Ordinal"
   ]
  },
  {
   "cell_type": "code",
   "execution_count": 40,
   "metadata": {},
   "outputs": [
    {
     "data": {
      "text/plain": [
       "array(['0', '5', '9', '2', '8', '7', '6', '1', 'No reply', '4', '3', '10'],\n",
       "      dtype=object)"
      ]
     },
     "execution_count": 40,
     "metadata": {},
     "output_type": "execute_result"
    }
   ],
   "source": [
    "alt_df['survey'].unique() #Categorical and Ordinal"
   ]
  },
  {
   "cell_type": "code",
   "execution_count": 41,
   "metadata": {},
   "outputs": [
    {
     "data": {
      "text/plain": [
       "array(['Churn=No', 'Churn=Yes', 'Y$e$s$$'], dtype=object)"
      ]
     },
     "execution_count": 41,
     "metadata": {},
     "output_type": "execute_result"
    }
   ],
   "source": [
    "alt_df['Class'].unique() #Inconsistency in the Class feature"
   ]
  },
  {
   "cell_type": "markdown",
   "metadata": {},
   "source": [
    "# Cleaning the target feature 'Class'"
   ]
  },
  {
   "cell_type": "code",
   "execution_count": 42,
   "metadata": {},
   "outputs": [],
   "source": [
    "#Function to clean into 'Yes' or 'No' only\n",
    "def extract_pattern(value):\n",
    "    if not pd.isna(value):\n",
    "        if 'Yes' in value:\n",
    "            return 'Yes'\n",
    "        else:\n",
    "            return 'No'\n",
    "    else:\n",
    "        return None\n",
    "    "
   ]
  },
  {
   "cell_type": "code",
   "execution_count": 43,
   "metadata": {},
   "outputs": [],
   "source": [
    "alt_df['Class'] = alt_df['Class'].apply(extract_pattern)"
   ]
  },
  {
   "cell_type": "code",
   "execution_count": 44,
   "metadata": {},
   "outputs": [
    {
     "data": {
      "text/plain": [
       "array(['No', 'Yes'], dtype=object)"
      ]
     },
     "execution_count": 44,
     "metadata": {},
     "output_type": "execute_result"
    }
   ],
   "source": [
    "#Verifying if the Class feature is cleaned.\n",
    "alt_df['Class'].unique()"
   ]
  },
  {
   "cell_type": "code",
   "execution_count": 45,
   "metadata": {},
   "outputs": [],
   "source": [
    "#Converting the numbers in 'survey' to correct format\n",
    "def convert_to_number(value):\n",
    "    if value.isdigit():  # Check if the value is a valid digit\n",
    "        return int(value)\n",
    "    else:\n",
    "        return value\n",
    "alt_df['survey'] = alt_df['survey'].apply(convert_to_number)"
   ]
  },
  {
   "cell_type": "code",
   "execution_count": 46,
   "metadata": {},
   "outputs": [],
   "source": [
    "#Impute our survey scores with the mode\n",
    "mode_scores = alt_df['survey'].mode()[0]\n",
    "alt_df['survey'] = alt_df['survey'].apply(lambda x:mode_scores if x=='No reply' else x)\n",
    "alt_df['survey'] = alt_df['survey'].apply(lambda x:int(x)) #Convert to integer"
   ]
  },
  {
   "cell_type": "markdown",
   "metadata": {},
   "source": [
    "# EDA"
   ]
  },
  {
   "cell_type": "markdown",
   "metadata": {},
   "source": [
    "Hypotheses:\n",
    "1. People who had a higher value of tenure are less likely to churn as they are already comfortable with the company's services and will not likely move to another.\n",
    "2. People who have a lower survey score are more likely to churn as it indicates that they aren't satisfied with the company's services and want to explore other options."
   ]
  },
  {
   "cell_type": "markdown",
   "metadata": {},
   "source": [
    "For this, we'll have to know the monthly_cost values. I'm estimating the monthly_cost of package 4 to be 54 a month."
   ]
  },
  {
   "cell_type": "code",
   "execution_count": 47,
   "metadata": {},
   "outputs": [],
   "source": [
    "#Filling the monthly_cost column\n",
    "costs = {1:26,2:34,3:40,4:54}\n",
    "alt_df['monthly_cost'] = alt_df['package'].map(costs)"
   ]
  },
  {
   "cell_type": "code",
   "execution_count": 48,
   "metadata": {},
   "outputs": [],
   "source": [
    "#Function to compute lifetime value\n",
    "def calc_lifetime_value(monthly_cost,tenure):\n",
    "    total = 0\n",
    "    for i in range(int(tenure)):\n",
    "        total += 12*monthly_cost\n",
    "        if i<25:\n",
    "            monthly_cost = monthly_cost - 0.02*monthly_cost\n",
    "    return total\n",
    "alt_df['lifetime_value'] = alt_df.apply(lambda row: calc_lifetime_value(row['monthly_cost'], row['Tenure']), axis=1)"
   ]
  },
  {
   "cell_type": "markdown",
   "metadata": {},
   "source": [
    "# Univariate Analysis"
   ]
  },
  {
   "cell_type": "code",
   "execution_count": 49,
   "metadata": {},
   "outputs": [
    {
     "data": {
      "text/plain": [
       "Text(0.5, 1.0, 'Churn Comparison with Partner Class')"
      ]
     },
     "execution_count": 49,
     "metadata": {},
     "output_type": "execute_result"
    },
    {
     "data": {
      "image/png": "[encoded data removed]",
      "text/plain": [
       "<Figure size 640x480 with 1 Axes>"
      ]
     },
     "metadata": {},
     "output_type": "display_data"
    }
   ],
   "source": [
    "#Churn vs Partner\n",
    "sns.countplot(data=alt_df,x='partner',hue='Class')\n",
    "plt.title('Churn Comparison with Partner Class')"
   ]
  },
  {
   "cell_type": "code",
   "execution_count": 50,
   "metadata": {},
   "outputs": [
    {
     "data": {
      "text/plain": [
       "Text(0.5, 1.0, 'Churn Comparison with Senior Class')"
      ]
     },
     "execution_count": 50,
     "metadata": {},
     "output_type": "execute_result"
    },
    {
     "data": {
      "image/png": "[encoded data removed]",
      "text/plain": [
       "<Figure size 640x480 with 1 Axes>"
      ]
     },
     "metadata": {},
     "output_type": "display_data"
    }
   ],
   "source": [
    "#Churn vs Senior\n",
    "sns.countplot(data=alt_df,x='senior',hue='Class')\n",
    "plt.title('Churn Comparison with Senior Class')"
   ]
  },
  {
   "cell_type": "code",
   "execution_count": 51,
   "metadata": {},
   "outputs": [
    {
     "data": {
      "text/plain": [
       "Text(0.5, 1.0, 'Churn vs Dependents Class')"
      ]
     },
     "execution_count": 51,
     "metadata": {},
     "output_type": "execute_result"
    },
    {
     "data": {
      "image/png": "[encoded data removed]",
      "text/plain": [
       "<Figure size 640x480 with 1 Axes>"
      ]
     },
     "metadata": {},
     "output_type": "display_data"
    }
   ],
   "source": [
    "#Churn vs Dependents\n",
    "sns.countplot(data=alt_df,x='dependents',hue='Class')\n",
    "plt.title('Churn vs Dependents Class')"
   ]
  },
  {
   "cell_type": "code",
   "execution_count": 52,
   "metadata": {},
   "outputs": [
    {
     "data": {
      "text/plain": [
       "Text(0.5, 1.0, 'Churn Comparison among Gender')"
      ]
     },
     "execution_count": 52,
     "metadata": {},
     "output_type": "execute_result"
    },
    {
     "data": {
      "image/png": "[encoded data removed]",
      "text/plain": [
       "<Figure size 640x480 with 1 Axes>"
      ]
     },
     "metadata": {},
     "output_type": "display_data"
    }
   ],
   "source": [
    "#Churn vs Gender\n",
    "sns.countplot(data=alt_df,x='gender',hue='Class')\n",
    "plt.title('Churn Comparison among Gender')"
   ]
  },
  {
   "cell_type": "code",
   "execution_count": 53,
   "metadata": {},
   "outputs": [
    {
     "data": {
      "text/plain": [
       "Text(0.5, 1.0, 'Churn vs Tenure')"
      ]
     },
     "execution_count": 53,
     "metadata": {},
     "output_type": "execute_result"
    },
    {
     "data": {
      "image/png": "[encoded data removed]",
      "text/plain": [
       "<Figure size 640x480 with 1 Axes>"
      ]
     },
     "metadata": {},
     "output_type": "display_data"
    }
   ],
   "source": [
    "#Churn vs Tenure\n",
    "sns.boxplot(data=alt_df,x='Class',y='Tenure')\n",
    "plt.title('Churn vs Tenure')"
   ]
  },
  {
   "cell_type": "code",
   "execution_count": 54,
   "metadata": {},
   "outputs": [
    {
     "data": {
      "text/plain": [
       "Class\n",
       "No     10.630337\n",
       "Yes     4.471253\n",
       "Name: Tenure, dtype: float64"
      ]
     },
     "execution_count": 54,
     "metadata": {},
     "output_type": "execute_result"
    }
   ],
   "source": [
    "#Average Tenure values for each churn and non-churn\n",
    "alt_df.groupby('Class')['Tenure'].mean()"
   ]
  },
  {
   "cell_type": "markdown",
   "metadata": {},
   "source": [
    "As expected, those who stayed with the company for a longer period of time were less likely to churn."
   ]
  },
  {
   "cell_type": "code",
   "execution_count": 55,
   "metadata": {},
   "outputs": [
    {
     "data": {
      "text/plain": [
       "Text(0.5, 1.0, 'Churn vs Survey Scores')"
      ]
     },
     "execution_count": 55,
     "metadata": {},
     "output_type": "execute_result"
    },
    {
     "data": {
      "image/png": "[encoded data removed]",
      "text/plain": [
       "<Figure size 640x480 with 1 Axes>"
      ]
     },
     "metadata": {},
     "output_type": "display_data"
    }
   ],
   "source": [
    "#Churn vs Survey\n",
    "sns.boxplot(data=alt_df,x='Class',y='survey')\n",
    "plt.title('Churn vs Survey Scores')"
   ]
  },
  {
   "cell_type": "code",
   "execution_count": 56,
   "metadata": {},
   "outputs": [
    {
     "data": {
      "text/plain": [
       "Class\n",
       "No     5.635468\n",
       "Yes    2.717146\n",
       "Name: survey, dtype: float64"
      ]
     },
     "execution_count": 56,
     "metadata": {},
     "output_type": "execute_result"
    }
   ],
   "source": [
    "#Average Survey scores for churn vs non-churn\n",
    "alt_df.groupby('Class')['survey'].mean()"
   ]
  },
  {
   "cell_type": "markdown",
   "metadata": {},
   "source": [
    "Our hypothesis about lower scores and churn is accurate. Scores leaning more towards 'Poor' ratings were more likely to churn."
   ]
  },
  {
   "cell_type": "markdown",
   "metadata": {},
   "source": [
    "Visualize the lifetime value of customers:"
   ]
  },
  {
   "cell_type": "code",
   "execution_count": 57,
   "metadata": {},
   "outputs": [
    {
     "data": {
      "text/plain": [
       "Text(0, 0.5, 'Frequency')"
      ]
     },
     "execution_count": 57,
     "metadata": {},
     "output_type": "execute_result"
    },
    {
     "data": {
      "image/png": "[encoded data removed]",
      "text/plain": [
       "<Figure size 640x480 with 1 Axes>"
      ]
     },
     "metadata": {},
     "output_type": "display_data"
    }
   ],
   "source": [
    "#Lifetime_value distribution\n",
    "plt.hist(alt_df['lifetime_value'])\n",
    "plt.title('Lifetime Value of Customers - Distribution')\n",
    "plt.xlabel('Lifetime Value')\n",
    "plt.ylabel('Frequency')"
   ]
  },
  {
   "cell_type": "markdown",
   "metadata": {},
   "source": [
    "We can see that the lifetime value was heavily skewed to the right, which indicates that a lot of customers were actually new and hence did not have any significant contribution to the yearly revenue of the company."
   ]
  },
  {
   "cell_type": "markdown",
   "metadata": {},
   "source": [
    "We will have to convert it into a normal distribution by means of a boxcox transform. But first, let us examine the average lifetime value of churned vs non-churned customers."
   ]
  },
  {
   "cell_type": "code",
   "execution_count": 58,
   "metadata": {},
   "outputs": [
    {
     "data": {
      "text/plain": [
       "Class\n",
       "No     4442.533976\n",
       "Yes    1686.722572\n",
       "Name: lifetime_value, dtype: float64"
      ]
     },
     "execution_count": 58,
     "metadata": {},
     "output_type": "execute_result"
    }
   ],
   "source": [
    "#Average lifetime value for churn and non-churn\n",
    "alt_df.groupby('Class')['lifetime_value'].mean()"
   ]
  },
  {
   "cell_type": "code",
   "execution_count": 59,
   "metadata": {},
   "outputs": [
    {
     "data": {
      "text/plain": [
       "Text(0.5, 1.0, 'Churn vs Lifetime Value')"
      ]
     },
     "execution_count": 59,
     "metadata": {},
     "output_type": "execute_result"
    },
    {
     "data": {
      "image/png": "[encoded data removed]",
      "text/plain": [
       "<Figure size 640x480 with 1 Axes>"
      ]
     },
     "metadata": {},
     "output_type": "display_data"
    }
   ],
   "source": [
    "#Churn vs lifetime_value\n",
    "sns.boxplot(data=alt_df,x='Class',y='lifetime_value')\n",
    "plt.title('Churn vs Lifetime Value')"
   ]
  },
  {
   "cell_type": "code",
   "execution_count": 60,
   "metadata": {},
   "outputs": [
    {
     "data": {
      "text/plain": [
       "Text(0.5, 1.0, 'Churn in each Location')"
      ]
     },
     "execution_count": 60,
     "metadata": {},
     "output_type": "execute_result"
    },
    {
     "data": {
      "image/png": "[encoded data removed]",
      "text/plain": [
       "<Figure size 640x480 with 1 Axes>"
      ]
     },
     "metadata": {},
     "output_type": "display_data"
    }
   ],
   "source": [
    "#Churn vs Location\n",
    "sns.countplot(alt_df,y='location',hue=alt_df['Class'])\n",
    "plt.xticks(rotation=90)\n",
    "plt.title('Churn in each Location')"
   ]
  },
  {
   "cell_type": "markdown",
   "metadata": {},
   "source": [
    "Location does not make much of a difference in the dataset."
   ]
  },
  {
   "cell_type": "code",
   "execution_count": 61,
   "metadata": {},
   "outputs": [
    {
     "data": {
      "text/plain": [
       "Text(0.5, 1.0, 'Churn Comparison with Package')"
      ]
     },
     "execution_count": 61,
     "metadata": {},
     "output_type": "execute_result"
    },
    {
     "data": {
      "image/png": "[encoded data removed]",
      "text/plain": [
       "<Figure size 640x480 with 1 Axes>"
      ]
     },
     "metadata": {},
     "output_type": "display_data"
    }
   ],
   "source": [
    "#Churn vs Package\n",
    "sns.countplot(alt_df,x='package',hue=alt_df['Class'])\n",
    "plt.title('Churn Comparison with Package')"
   ]
  },
  {
   "cell_type": "markdown",
   "metadata": {},
   "source": [
    "# Feature Engineering"
   ]
  },
  {
   "cell_type": "code",
   "execution_count": 62,
   "metadata": {},
   "outputs": [],
   "source": [
    "#Split the data\n",
    "#Remove the monthly_cost column as the information is already encoded in package.\n",
    "#Label Encode Class, gender and dependents.\n",
    "#Transform the lifetime_value column to make it more normal."
   ]
  },
  {
   "cell_type": "code",
   "execution_count": 63,
   "metadata": {},
   "outputs": [],
   "source": [
    "#Dropping monthly_cost\n",
    "alt_df.drop('monthly_cost',axis=1,inplace=True)"
   ]
  },
  {
   "cell_type": "code",
   "execution_count": 64,
   "metadata": {},
   "outputs": [],
   "source": [
    "#Dropping location\n",
    "alt_df.drop('location',axis=1,inplace=True)"
   ]
  },
  {
   "cell_type": "code",
   "execution_count": 65,
   "metadata": {},
   "outputs": [],
   "source": [
    "#Splitting data into train and test sets\n",
    "X = alt_df.drop('Class',axis=1)\n",
    "y = alt_df['Class']\n",
    "X_train,X_test,y_train,y_test = train_test_split(X,y,test_size=0.2,random_state=43)"
   ]
  },
  {
   "cell_type": "code",
   "execution_count": 66,
   "metadata": {},
   "outputs": [],
   "source": [
    "#Label encoding the necessary columns\n",
    "le = LabelEncoder()\n",
    "X_train['gender'] = le.fit_transform(X_train['gender'])\n",
    "X_test['gender'] = le.transform(X_test['gender'])\n",
    "X_train['dependents'] = le.fit_transform(X_train['dependents'])\n",
    "X_test['dependents'] = le.transform(X_test['dependents'])\n",
    "y_train = le.fit_transform(y_train)\n",
    "y_test = le.transform(y_test)"
   ]
  },
  {
   "cell_type": "code",
   "execution_count": 67,
   "metadata": {},
   "outputs": [],
   "source": [
    "#Box-cox transformation on lifetime_value column\n",
    "X_train['lifetime_value_transformed'], lambda_param_train = boxcox(X_train['lifetime_value'] + 1)\n",
    "X_test['lifetime_value_transformed'] = boxcox(X_test['lifetime_value'] + 1, lmbda=lambda_param_train)\n",
    "X_train.drop('lifetime_value',axis=1,inplace=True)\n",
    "X_test.drop('lifetime_value',axis=1,inplace=True)"
   ]
  },
  {
   "cell_type": "markdown",
   "metadata": {},
   "source": [
    "# ML Modeling"
   ]
  },
  {
   "cell_type": "code",
   "execution_count": 68,
   "metadata": {},
   "outputs": [],
   "source": [
    "#Dictionary to store the results for each model\n",
    "results = {\n",
    "    'Model': [],\n",
    "    'Train Accuracy': [],\n",
    "    'Test Accuracy': [],\n",
    "    'True Positives': [],\n",
    "    'False Positives': [],\n",
    "    'True Negatives': [],\n",
    "    'False Negatives': [],\n",
    "    'Precision': [],\n",
    "    'Sensitivity (Recall)': [],\n",
    "    'Specificity': []\n",
    "}\n",
    "\n",
    "#Function to calculate  recall and specificity\n",
    "def sensitivity_specificity(confusion_matrix):\n",
    "    tn, fp, fn, tp = confusion_matrix.ravel()\n",
    "    sensitivity = tp / (tp + fn)\n",
    "    specificity = tn / (tn + fp)\n",
    "    return sensitivity, specificity\n",
    "\n",
    "#Logistic Regression\n",
    "lr_model = LogisticRegression()\n",
    "lr_model.fit(X_train, y_train)\n",
    "y_train_pred_lr = lr_model.predict(X_train)\n",
    "y_test_pred_lr = lr_model.predict(X_test)\n",
    "\n",
    "#evaluation metrics for Logistic Regression\n",
    "train_accuracy_lr = accuracy_score(y_train, y_train_pred_lr)\n",
    "test_accuracy_lr = accuracy_score(y_test, y_test_pred_lr)\n",
    "conf_matrix_lr = confusion_matrix(y_test, y_test_pred_lr)\n",
    "precision_lr = precision_score(y_test, y_test_pred_lr)\n",
    "recall_lr = recall_score(y_test, y_test_pred_lr)\n",
    "sensitivity_lr, specificity_lr = sensitivity_specificity(conf_matrix_lr)\n",
    "\n",
    "#Append results to the dictionary\n",
    "results['Model'].append('Logistic Regression')\n",
    "results['Train Accuracy'].append(train_accuracy_lr)\n",
    "results['Test Accuracy'].append(test_accuracy_lr)\n",
    "results['True Positives'].append(conf_matrix_lr[1, 1])\n",
    "results['False Positives'].append(conf_matrix_lr[0, 1])\n",
    "results['True Negatives'].append(conf_matrix_lr[0, 0])\n",
    "results['False Negatives'].append(conf_matrix_lr[1, 0])\n",
    "results['Precision'].append(precision_lr)\n",
    "results['Sensitivity (Recall)'].append(recall_lr)\n",
    "results['Specificity'].append(specificity_lr)\n",
    "\n",
    "#SVM\n",
    "svm_model = SVC()\n",
    "svm_model.fit(X_train, y_train)\n",
    "y_train_pred_svm = svm_model.predict(X_train)\n",
    "y_test_pred_svm = svm_model.predict(X_test)\n",
    "\n",
    "#Gather evaluation metrics for SVM\n",
    "train_accuracy_svm = accuracy_score(y_train, y_train_pred_svm)\n",
    "test_accuracy_svm = accuracy_score(y_test, y_test_pred_svm)\n",
    "conf_matrix_svm = confusion_matrix(y_test, y_test_pred_svm)\n",
    "precision_svm = precision_score(y_test, y_test_pred_svm)\n",
    "recall_svm = recall_score(y_test, y_test_pred_svm)\n",
    "sensitivity_svm, specificity_svm = sensitivity_specificity(conf_matrix_svm)\n",
    "\n",
    "#Append results to the dictionary\n",
    "results['Model'].append('SVM')\n",
    "results['Train Accuracy'].append(train_accuracy_svm)\n",
    "results['Test Accuracy'].append(test_accuracy_svm)\n",
    "results['True Positives'].append(conf_matrix_svm[1, 1])\n",
    "results['False Positives'].append(conf_matrix_svm[0, 1])\n",
    "results['True Negatives'].append(conf_matrix_svm[0, 0])\n",
    "results['False Negatives'].append(conf_matrix_svm[1, 0])\n",
    "results['Precision'].append(precision_svm)\n",
    "results['Sensitivity (Recall)'].append(recall_svm)\n",
    "results['Specificity'].append(specificity_svm)\n",
    "\n",
    "#Random Forest\n",
    "rf_model = RandomForestClassifier()\n",
    "rf_model.fit(X_train, y_train)\n",
    "y_train_pred_rf = rf_model.predict(X_train)\n",
    "y_test_pred_rf = rf_model.predict(X_test)\n",
    "\n",
    "#Gather evaluation metrics for Random Forest\n",
    "train_accuracy_rf = accuracy_score(y_train, y_train_pred_rf)\n",
    "test_accuracy_rf = accuracy_score(y_test, y_test_pred_rf)\n",
    "conf_matrix_rf = confusion_matrix(y_test, y_test_pred_rf)\n",
    "precision_rf = precision_score(y_test, y_test_pred_rf)\n",
    "recall_rf = recall_score(y_test, y_test_pred_rf)\n",
    "sensitivity_rf, specificity_rf = sensitivity_specificity(conf_matrix_rf)\n",
    "\n",
    "#Append results to the dictionary\n",
    "results['Model'].append('Random Forest')\n",
    "results['Train Accuracy'].append(train_accuracy_rf)\n",
    "results['Test Accuracy'].append(test_accuracy_rf)\n",
    "results['True Positives'].append(conf_matrix_rf[1, 1])\n",
    "results['False Positives'].append(conf_matrix_rf[0, 1])\n",
    "results['True Negatives'].append(conf_matrix_rf[0, 0])\n",
    "results['False Negatives'].append(conf_matrix_rf[1, 0])\n",
    "results['Precision'].append(precision_rf)\n",
    "results['Sensitivity (Recall)'].append(recall_rf)\n",
    "results['Specificity'].append(specificity_rf)\n",
    "\n",
    "#Decision Tree\n",
    "dt_model = DecisionTreeClassifier()\n",
    "dt_model.fit(X_train, y_train)\n",
    "y_train_pred_dt = dt_model.predict(X_train)\n",
    "y_test_pred_dt = dt_model.predict(X_test)\n",
    "\n",
    "#Gather evaluation metrics for Decision Tree\n",
    "train_accuracy_dt = accuracy_score(y_train, y_train_pred_dt)\n",
    "test_accuracy_dt = accuracy_score(y_test, y_test_pred_dt)\n",
    "conf_matrix_dt = confusion_matrix(y_test, y_test_pred_dt)\n",
    "precision_dt = precision_score(y_test, y_test_pred_dt)\n",
    "recall_dt = recall_score(y_test, y_test_pred_dt)\n",
    "sensitivity_dt, specificity_dt = sensitivity_specificity(conf_matrix_dt)\n",
    "\n",
    "#Append results to the dictionary\n",
    "results['Model'].append('Decision Tree')\n",
    "results['Train Accuracy'].append(train_accuracy_dt)\n",
    "results['Test Accuracy'].append(test_accuracy_dt)\n",
    "results['True Positives'].append(conf_matrix_dt[1, 1])\n",
    "results['False Positives'].append(conf_matrix_dt[0, 1])\n",
    "results['True Negatives'].append(conf_matrix_dt[0, 0])\n",
    "results['False Negatives'].append(conf_matrix_dt[1, 0])\n",
    "results['Precision'].append(precision_dt)\n",
    "results['Sensitivity (Recall)'].append(recall_dt)\n",
    "results['Specificity'].append(specificity_dt)\n",
    "\n",
    "#Gradient Boost\n",
    "gb_model = GradientBoostingClassifier()\n",
    "gb_model.fit(X_train, y_train)\n",
    "y_train_pred_gb = gb_model.predict(X_train)\n",
    "y_test_pred_gb = gb_model.predict(X_test)\n",
    "\n",
    "# Gather evaluation metrics for Gradient Boost\n",
    "train_accuracy_gb = accuracy_score(y_train, y_train_pred_gb)\n",
    "test_accuracy_gb = accuracy_score(y_test, y_test_pred_gb)\n",
    "conf_matrix_gb = confusion_matrix(y_test, y_test_pred_gb)\n",
    "precision_gb = precision_score(y_test, y_test_pred_gb)\n",
    "recall_gb = recall_score(y_test, y_test_pred_gb)\n",
    "sensitivity_gb, specificity_gb = sensitivity_specificity(conf_matrix_gb)\n",
    "\n",
    "#Append results to the dictionary\n",
    "results['Model'].append('Gradient Boost')\n",
    "results['Train Accuracy'].append(train_accuracy_gb)\n",
    "results['Test Accuracy'].append(test_accuracy_gb)\n",
    "results['True Positives'].append(conf_matrix_gb[1, 1])\n",
    "results['False Positives'].append(conf_matrix_gb[0, 1])\n",
    "results['True Negatives'].append(conf_matrix_gb[0, 0])\n",
    "results['False Negatives'].append(conf_matrix_gb[1, 0])\n",
    "results['Precision'].append(precision_gb)\n",
    "results['Sensitivity (Recall)'].append(recall_gb)\n",
    "results['Specificity'].append(specificity_gb)\n",
    "\n",
    "#XGBoost\n",
    "xgb_model = XGBClassifier()\n",
    "xgb_model.fit(X_train, y_train)\n",
    "y_train_pred_xgb = xgb_model.predict(X_train)\n",
    "y_test_pred_xgb = xgb_model.predict(X_test)\n",
    "\n",
    "#Gather evaluation metrics for XGBoost\n",
    "train_accuracy_xgb = accuracy_score(y_train, y_train_pred_xgb)\n",
    "test_accuracy_xgb = accuracy_score(y_test, y_test_pred_xgb)\n",
    "conf_matrix_xgb = confusion_matrix(y_test, y_test_pred_xgb)\n",
    "precision_xgb = precision_score(y_test, y_test_pred_xgb)\n",
    "recall_xgb = recall_score(y_test, y_test_pred_xgb)\n",
    "sensitivity_xgb, specificity_xgb = sensitivity_specificity(conf_matrix_xgb)\n",
    "\n",
    "#Append results to the dictionary\n",
    "results['Model'].append('XGBoost')\n",
    "results['Train Accuracy'].append(train_accuracy_xgb)\n",
    "results['Test Accuracy'].append(test_accuracy_xgb)\n",
    "results['True Positives'].append(conf_matrix_xgb[1, 1])\n",
    "results['False Positives'].append(conf_matrix_xgb[0, 1])\n",
    "results['True Negatives'].append(conf_matrix_xgb[0, 0])\n",
    "results['False Negatives'].append(conf_matrix_xgb[1, 0])\n",
    "results['Precision'].append(precision_xgb)\n",
    "results['Sensitivity (Recall)'].append(recall_xgb)\n",
    "results['Specificity'].append(specificity_xgb)\n",
    "\n",
    "#Creating a DataFrame from the results dictionary\n",
    "results_df = pd.DataFrame(results)\n",
    "\n",
    "#Sorting the DataFrame by test accuracy scores in descending order\n",
    "results_df = results_df.sort_values(by='Test Accuracy', ascending=False)\n",
    "\n",
    "\n",
    "#Get the model name with the highest test accuracy\n",
    "best_model_name = results_df.iloc[0]['Model']\n",
    "\n",
    "#Get the best model name\n",
    "best_model = None\n",
    "if best_model_name == 'Logistic Regression':\n",
    "    best_model = lr_model\n",
    "elif best_model_name == 'SVM':\n",
    "    best_model = svm_model\n",
    "elif best_model_name == 'Random Forest':\n",
    "    best_model = rf_model\n",
    "elif best_model_name == 'Decision Tree':\n",
    "    best_model = dt_model\n",
    "elif best_model_name == 'Gradient Boost':\n",
    "    best_model = gb_model\n",
    "elif best_model_name == 'XGBoost':\n",
    "    best_model = xgb_model\n",
    "\n",
    "#Get feature importances for the best model\n",
    "feature_importances = pd.Series(best_model.feature_importances_, index=X_train.columns)"
   ]
  },
  {
   "cell_type": "code",
   "execution_count": 69,
   "metadata": {},
   "outputs": [
    {
     "data": {
      "text/html": [
       "<div>\n",
       "<style scoped>\n",
       "    .dataframe tbody tr th:only-of-type {\n",
       "        vertical-align: middle;\n",
       "    }\n",
       "\n",
       "    .dataframe tbody tr th {\n",
       "        vertical-align: top;\n",
       "    }\n",
       "\n",
       "    .dataframe thead th {\n",
       "        text-align: right;\n",
       "    }\n",
       "</style>\n",
       "<table border=\"1\" class=\"dataframe\">\n",
       "  <thead>\n",
       "    <tr style=\"text-align: right;\">\n",
       "      <th></th>\n",
       "      <th>Model</th>\n",
       "      <th>Train Accuracy</th>\n",
       "      <th>Test Accuracy</th>\n",
       "      <th>True Positives</th>\n",
       "      <th>False Positives</th>\n",
       "      <th>True Negatives</th>\n",
       "      <th>False Negatives</th>\n",
       "      <th>Precision</th>\n",
       "      <th>Sensitivity (Recall)</th>\n",
       "      <th>Specificity</th>\n",
       "    </tr>\n",
       "  </thead>\n",
       "  <tbody>\n",
       "    <tr>\n",
       "      <th>4</th>\n",
       "      <td>Gradient Boost</td>\n",
       "      <td>92.12%</td>\n",
       "      <td>90.54%</td>\n",
       "      <td>299</td>\n",
       "      <td>51</td>\n",
       "      <td>936</td>\n",
       "      <td>78</td>\n",
       "      <td>85.43%</td>\n",
       "      <td>79.31%</td>\n",
       "      <td>94.83%</td>\n",
       "    </tr>\n",
       "    <tr>\n",
       "      <th>2</th>\n",
       "      <td>Random Forest</td>\n",
       "      <td>97.43%</td>\n",
       "      <td>89.74%</td>\n",
       "      <td>299</td>\n",
       "      <td>62</td>\n",
       "      <td>925</td>\n",
       "      <td>78</td>\n",
       "      <td>82.83%</td>\n",
       "      <td>79.31%</td>\n",
       "      <td>93.72%</td>\n",
       "    </tr>\n",
       "    <tr>\n",
       "      <th>5</th>\n",
       "      <td>XGBoost</td>\n",
       "      <td>95.71%</td>\n",
       "      <td>89.08%</td>\n",
       "      <td>291</td>\n",
       "      <td>63</td>\n",
       "      <td>924</td>\n",
       "      <td>86</td>\n",
       "      <td>82.20%</td>\n",
       "      <td>77.19%</td>\n",
       "      <td>93.62%</td>\n",
       "    </tr>\n",
       "    <tr>\n",
       "      <th>3</th>\n",
       "      <td>Decision Tree</td>\n",
       "      <td>97.43%</td>\n",
       "      <td>87.46%</td>\n",
       "      <td>288</td>\n",
       "      <td>82</td>\n",
       "      <td>905</td>\n",
       "      <td>89</td>\n",
       "      <td>77.84%</td>\n",
       "      <td>76.39%</td>\n",
       "      <td>91.69%</td>\n",
       "    </tr>\n",
       "    <tr>\n",
       "      <th>0</th>\n",
       "      <td>Logistic Regression</td>\n",
       "      <td>86.68%</td>\n",
       "      <td>86.73%</td>\n",
       "      <td>266</td>\n",
       "      <td>70</td>\n",
       "      <td>917</td>\n",
       "      <td>111</td>\n",
       "      <td>79.17%</td>\n",
       "      <td>70.56%</td>\n",
       "      <td>92.91%</td>\n",
       "    </tr>\n",
       "    <tr>\n",
       "      <th>1</th>\n",
       "      <td>SVM</td>\n",
       "      <td>83.32%</td>\n",
       "      <td>84.31%</td>\n",
       "      <td>236</td>\n",
       "      <td>73</td>\n",
       "      <td>914</td>\n",
       "      <td>141</td>\n",
       "      <td>76.38%</td>\n",
       "      <td>62.60%</td>\n",
       "      <td>92.60%</td>\n",
       "    </tr>\n",
       "  </tbody>\n",
       "</table>\n",
       "</div>"
      ],
      "text/plain": [
       "                 Model Train Accuracy Test Accuracy  True Positives  \\\n",
       "4       Gradient Boost         92.12%        90.54%             299   \n",
       "2        Random Forest         97.43%        89.74%             299   \n",
       "5              XGBoost         95.71%        89.08%             291   \n",
       "3        Decision Tree         97.43%        87.46%             288   \n",
       "0  Logistic Regression         86.68%        86.73%             266   \n",
       "1                  SVM         83.32%        84.31%             236   \n",
       "\n",
       "   False Positives  True Negatives  False Negatives Precision  \\\n",
       "4               51             936               78    85.43%   \n",
       "2               62             925               78    82.83%   \n",
       "5               63             924               86    82.20%   \n",
       "3               82             905               89    77.84%   \n",
       "0               70             917              111    79.17%   \n",
       "1               73             914              141    76.38%   \n",
       "\n",
       "  Sensitivity (Recall) Specificity  \n",
       "4               79.31%      94.83%  \n",
       "2               79.31%      93.72%  \n",
       "5               77.19%      93.62%  \n",
       "3               76.39%      91.69%  \n",
       "0               70.56%      92.91%  \n",
       "1               62.60%      92.60%  "
      ]
     },
     "execution_count": 69,
     "metadata": {},
     "output_type": "execute_result"
    }
   ],
   "source": [
    "#Defining a function to convert a float to percentage\n",
    "def float_to_percentage(value):\n",
    "    return f\"{value*100:.2f}%\"\n",
    "\n",
    "#Applying the function to the relevant columns\n",
    "columns_to_convert = ['Train Accuracy', 'Test Accuracy', 'Precision', 'Sensitivity (Recall)', 'Specificity']\n",
    "results_df[columns_to_convert] = results_df[columns_to_convert].applymap(float_to_percentage)\n",
    "\n",
    "#Print the DataFrame\n",
    "results_df"
   ]
  },
  {
   "cell_type": "code",
   "execution_count": 70,
   "metadata": {},
   "outputs": [
    {
     "data": {
      "image/png": "[encoded data removed]",
      "text/plain": [
       "<Figure size 1000x600 with 1 Axes>"
      ]
     },
     "metadata": {},
     "output_type": "display_data"
    }
   ],
   "source": [
    "#Visualizing the feature importance\n",
    "sorted_feature_importances = feature_importances.sort_values(ascending=True)\n",
    "plt.figure(figsize=(10, 6))\n",
    "plt.barh(sorted_feature_importances.index, sorted_feature_importances.values)\n",
    "plt.xticks(rotation=45, ha='right')\n",
    "plt.title(f'Feature Importances for {best_model_name}')\n",
    "plt.xlabel('Importance')\n",
    "plt.ylabel('Feature')\n",
    "plt.tight_layout()\n",
    "plt.show()"
   ]
  }
 ],
 "metadata": {
  "kernelspec": {
   "display_name": "Python 3 (ipykernel)",
   "language": "python",
   "name": "python3"
  },
  "language_info": {
   "codemirror_mode": {
    "name": "ipython",
    "version": 3
   },
   "file_extension": ".py",
   "mimetype": "text/x-python",
   "name": "python",
   "nbconvert_exporter": "python",
   "pygments_lexer": "ipython3",
   "version": "3.9.6"
  }
 },
 "nbformat": 4,
 "nbformat_minor": 2
}
